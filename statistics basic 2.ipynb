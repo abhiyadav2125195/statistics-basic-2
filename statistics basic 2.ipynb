{
 "cells": [
  {
   "cell_type": "markdown",
   "id": "f2b3e8aa-535a-4b39-8e92-12c56f8c222a",
   "metadata": {},
   "source": [
    "# Q1. What are the three measures of central tendency?"
   ]
  },
  {
   "cell_type": "markdown",
   "id": "c7174f51-c145-4856-bdc7-8b036f98f930",
   "metadata": {},
   "source": [
    "Mean: The mean is the average of a set of numbers. It is calculated by adding all the values together and then dividing by the total number of values in the set. The mean is sensitive to extreme values, as it takes into account all the data points.\n",
    "\n",
    "Median: The median is the middle value in a sorted list of data. To find the median, you arrange the data in ascending or descending order and choose the middle value. If there is an even number of data points, the median is calculated as the average of the two middle values.\n",
    "\n",
    "Mode: The mode is the value that appears most frequently in a data set. A data set can have one mode (unimodal), two modes (bimodal), or more (multimodal). It is possible for a data set to have no mode if all the values occur with equal frequency."
   ]
  },
  {
   "cell_type": "markdown",
   "id": "86879d1e-14e1-45bc-ad4a-a4bf536aa01f",
   "metadata": {},
   "source": [
    "# Q2. What is the difference between the mean, median, and mode? How are they used to measure the central tendency of a dataset?"
   ]
  },
  {
   "cell_type": "markdown",
   "id": "11e7ae40-bbb9-45e8-b736-534af38a7bfb",
   "metadata": {},
   "source": [
    "Mean:\n",
    "The mean is the average of a set of numbers.\n",
    "To calculate the mean, you sum all the values in the dataset and then divide by the total number of values.\n",
    "The mean is sensitive to extreme values because it takes into account all data points equally.\n",
    "It is commonly used when the dataset is approximately normally distributed or when there are no extreme outliers that significantly affect the average.\n",
    "The mean can be affected by skewed distributions or large variations in the data.\n",
    "\n",
    "Median:\n",
    "The median is the middle value in a sorted list of data.\n",
    "To find the median, you arrange the data in ascending or descending order and choose the middle value. If there is an even number of data points, the median is calculated as the average of the two middle values.\n",
    "The median is less sensitive to extreme values compared to the mean, making it a robust measure of central tendency.\n",
    "It is preferred when dealing with skewed data or datasets with outliers that can distort the mean.\n",
    "\n",
    "Mode:\n",
    "The mode is the value that appears most frequently in a dataset.\n",
    "It is determined by finding the data point with the highest frequency of occurrence.\n",
    "The mode is useful for categorical or nominal data, where there is no natural ordering or numerical values involved.\n",
    "It can also be used with numerical data, especially when identifying peaks or modes in the distribution."
   ]
  },
  {
   "cell_type": "markdown",
   "id": "1b06bbba-abdf-491c-8033-91e9d53cbf7a",
   "metadata": {},
   "source": [
    "# Q3. Measure the three measures of central tendency for the given height data:[178,177,176,177,178.2,178,175,179,180,175,178.9,176.2,177,172.5,178,176.5]"
   ]
  },
  {
   "cell_type": "code",
   "execution_count": 4,
   "id": "1ef76171-afe1-4d65-a53a-efd76d856c96",
   "metadata": {},
   "outputs": [
    {
     "data": {
      "text/plain": [
       "177.01875"
      ]
     },
     "execution_count": 4,
     "metadata": {},
     "output_type": "execute_result"
    }
   ],
   "source": [
    "import numpy as np\n",
    "data = [178,177,176,177,178.2,178,175,179,180,175,178.9,176.2,177,172.5,178,176.5]\n",
    "np.mean(data)"
   ]
  },
  {
   "cell_type": "code",
   "execution_count": 6,
   "id": "3b47e5c4-9853-4a06-9978-5fa733df8ac7",
   "metadata": {},
   "outputs": [
    {
     "data": {
      "text/plain": [
       "177.0"
      ]
     },
     "execution_count": 6,
     "metadata": {},
     "output_type": "execute_result"
    }
   ],
   "source": [
    "np.median(data)"
   ]
  },
  {
   "cell_type": "code",
   "execution_count": 7,
   "id": "d9eb843f-fde1-49e2-b615-b684fa234882",
   "metadata": {},
   "outputs": [],
   "source": [
    "from scipy import stats"
   ]
  },
  {
   "cell_type": "code",
   "execution_count": 8,
   "id": "88b7bcc4-391a-4497-844b-d0b99240e5a7",
   "metadata": {},
   "outputs": [
    {
     "name": "stderr",
     "output_type": "stream",
     "text": [
      "/tmp/ipykernel_722/3267261142.py:1: FutureWarning: Unlike other reduction functions (e.g. `skew`, `kurtosis`), the default behavior of `mode` typically preserves the axis it acts along. In SciPy 1.11.0, this behavior will change: the default value of `keepdims` will become False, the `axis` over which the statistic is taken will be eliminated, and the value None will no longer be accepted. Set `keepdims` to True or False to avoid this warning.\n",
      "  stats.mode(data)\n"
     ]
    },
    {
     "data": {
      "text/plain": [
       "ModeResult(mode=array([177.]), count=array([3]))"
      ]
     },
     "execution_count": 8,
     "metadata": {},
     "output_type": "execute_result"
    }
   ],
   "source": [
    "stats.mode(data)"
   ]
  },
  {
   "cell_type": "markdown",
   "id": "d59b1665-7328-4b0a-8619-3b8bdd2a7113",
   "metadata": {},
   "source": [
    "# Q4. Find the standard deviation for the given data:\n",
    "[178,177,176,177,178.2,178,175,179,180,175,178.9,176.2,177,172.5,178,176.5]"
   ]
  },
  {
   "cell_type": "code",
   "execution_count": 9,
   "id": "1f13b84a-a97a-4cc3-af19-9d5d5d66f14d",
   "metadata": {},
   "outputs": [
    {
     "data": {
      "text/plain": [
       "1.7885814036548633"
      ]
     },
     "execution_count": 9,
     "metadata": {},
     "output_type": "execute_result"
    }
   ],
   "source": [
    "np.std(data)"
   ]
  },
  {
   "cell_type": "markdown",
   "id": "5a57e8ce-de4b-4385-ac18-fe8c751b4b63",
   "metadata": {},
   "source": [
    "# Q5. How are measures of dispersion such as range, variance, and standard deviation used to describe the spread of a dataset? Provide an example."
   ]
  },
  {
   "cell_type": "markdown",
   "id": "067bd98e-14b8-413e-84bd-d6d062782ca3",
   "metadata": {},
   "source": [
    "Range:\n",
    "The range is the simplest measure of dispersion, representing the difference between the maximum and minimum values in a dataset.\n",
    "It gives an idea of the total spread of the data but does not take into account the distribution of values in between the minimum and maximum.\n",
    "Range = Maximum value - Minimum value\n",
    "Example: Consider the following dataset representing the ages of people in a group: [25, 30, 35, 40, 45]. The range would be: 45 (maximum value) - 25 (minimum value) = 20.\n",
    "\n",
    "Variance:\n",
    "The variance measures how much the data points deviate from the mean.\n",
    "It is calculated by taking the average of the squared differences between each data point and the mean.\n",
    "Variance provides a measure of the average squared distance between data points and the mean.\n",
    "Example: Let's use the same age dataset as before: [25, 30, 35, 40, 45]. First, calculate the mean: (25 + 30 + 35 + 40 + 45) / 5 = 35. The squared differences from the mean are: (10^2, 5^2, 0^2, 5^2, 10^2) = (100, 25, 0, 25, 100). The variance is the average of these squared differences: (100 + 25 + 0 + 25 + 100) / 5 = 50.\n",
    "\n",
    "Standard Deviation:\n",
    "The standard deviation is the square root of the variance and represents the typical or average deviation of data points from the mean.\n",
    "It is a widely used measure of dispersion as it is in the same unit as the data, making it easier to interpret.\n",
    "Standard Deviation = √Variance\n",
    "Example: Using the previous dataset's variance of 50, the standard deviation would be √50 ≈ 7.07."
   ]
  },
  {
   "cell_type": "markdown",
   "id": "c555ad58-aec8-4534-9983-cbde555bf4bf",
   "metadata": {},
   "source": [
    "# Q6. What is a Venn diagram?"
   ]
  },
  {
   "cell_type": "markdown",
   "id": "30995763-c7b3-4a8a-adac-69d8d3ec0738",
   "metadata": {},
   "source": [
    "\n",
    "A Venn diagram is a graphical representation used to illustrate the relationships between different sets or groups. It consists of overlapping circles or ellipses, with each circle representing a set and the overlapping regions representing the intersections between the sets.\n",
    "\n",
    "The main purpose of a Venn diagram is to visually depict the common and distinct elements or characteristics shared by multiple sets. It helps in understanding the relationships and similarities between different categories or groups of data.\n",
    "\n",
    "Here are the key components of a Venn diagram:\n",
    "\n",
    "Circles or Ellipses: Each circle or ellipse in the diagram represents a set. The elements or members of each set are represented within the boundary of the circle.\n",
    "\n",
    "Overlapping Regions: The overlapping parts of the circles represent the intersection of the sets. The elements that belong to more than one set are shown in these overlapping regions.\n",
    "\n",
    "Non-Overlapping Regions: The areas within each circle that do not overlap with other circles represent the elements that are unique to each set."
   ]
  },
  {
   "cell_type": "markdown",
   "id": "fbe851f3-191b-4ad4-9cfa-0d4a610ead2f",
   "metadata": {},
   "source": [
    "# Q7. For the two given sets A = (2,3,4,5,6,7) & B = (0,2,6,8,10). Find:\n",
    "# (i) A B\n",
    "     2,6\n",
    "# (ii) A ⋃ B\n",
    "      0,2,3,4,5,6,7,8,10"
   ]
  },
  {
   "cell_type": "markdown",
   "id": "1cdc3f48-f39f-42b3-afa2-9e8429d4c8f6",
   "metadata": {},
   "source": [
    "# Q8. What do you understand about skewness in data?"
   ]
  },
  {
   "cell_type": "markdown",
   "id": "f1517916-25bf-4eca-a48a-2d8f45005354",
   "metadata": {},
   "source": [
    "Skewness in data refers to the asymmetry of the data distribution around its central tendency (mean, median, or mode). It indicates the extent to which a dataset is skewed or tilted to one side, either to the left or right. In a perfectly symmetric distribution, the data is evenly distributed on both sides of the central tendency, resulting in a skewness value close to zero. However, when the distribution is skewed, the mean, median, and mode are not equal, and the skewness value will be non-zero.\n",
    "\n",
    "There are two main types of skewness:\n",
    "\n",
    "Positive Skewness (Right Skewness):\n",
    "In a positively skewed distribution, the tail of the data points extends towards the right side, while the bulk of the data is concentrated on the left side.\n",
    "The mean is typically greater than the median in positively skewed data.\n",
    "This often occurs when there are few extremely high values that push the mean to the right.\n",
    "Negative Skewness (Left Skewness):\n",
    "In a negatively skewed distribution, the tail of the data points extends towards the left side, while the majority of the data is clustered on the right side.\n",
    "The mean is typically less than the median in negatively skewed data.\n",
    "This commonly happens when there are a few extremely low values that drag the mean to the left."
   ]
  },
  {
   "cell_type": "markdown",
   "id": "63ca4181-1ecd-42bc-a758-f68d6e1ecb7e",
   "metadata": {},
   "source": [
    "# Q9. If a data is right skewed then what will be the position of median with respect to mean?"
   ]
  },
  {
   "cell_type": "markdown",
   "id": "a4f64e4f-12d4-4576-a251-6711192f04f3",
   "metadata": {},
   "source": [
    "If a dataset is right-skewed, the position of the median will be to the left of the mean. In other words, the median will be smaller than the mean.\n",
    "\n",
    "In a right-skewed distribution, the tail of the data points extends towards the right side, and there are relatively few extreme values on the right side of the distribution. As a result, the mean gets pulled to the right by these few higher values, making it greater than the median.\n",
    "\n",
    "The median, on the other hand, is the middle value of the dataset when it is arranged in ascending or descending order. Since the right-skewed distribution has a longer tail on the right, it means that more data points are concentrated on the left side, where the lower values are. This causes the median to be positioned closer to the bulk of the data, which is on the left side, making it smaller than the mean.\n",
    "\n",
    "In summary, for right-skewed data:\n",
    "\n",
    "Mean > Median\n",
    "\n",
    "\n",
    "\n",
    "\n"
   ]
  },
  {
   "cell_type": "markdown",
   "id": "21095430-6c5a-477a-8d08-e110225920d3",
   "metadata": {},
   "source": [
    "# Q10. Explain the difference between covariance and correlation. How are these measures used in statistical analysis?"
   ]
  },
  {
   "cell_type": "markdown",
   "id": "50367c26-c32b-4ed0-9523-bcda62ba06e9",
   "metadata": {},
   "source": [
    "Covariance and correlation are both measures used to assess the relationship between two variables in a dataset, but they have distinct interpretations and properties.\n",
    "\n",
    "Covariance:\n",
    "Covariance measures the degree to which two variables change together. It indicates whether the two variables tend to increase or decrease together or move in opposite directions.\n",
    "It is calculated by taking the product of the differences between each pair of corresponding values of the two variables and then averaging those products.\n",
    "The sign of the covariance indicates the direction of the relationship:\n",
    "Positive covariance (covariance > 0) suggests that when one variable increases, the other tends to increase as well.\n",
    "Negative covariance (covariance < 0) indicates that when one variable increases, the other tends to decrease.\n",
    "However, the magnitude of covariance does not provide a standardized measure, making it difficult to compare the strength of the relationship between different variable pairs.\n",
    "Correlation:\n",
    "Correlation is a standardized measure of the relationship between two variables. It represents the strength and direction of the linear relationship between the variables.\n",
    "The correlation coefficient ranges from -1 to +1:\n",
    "A correlation coefficient of +1 indicates a perfect positive linear relationship, meaning that the variables increase together with a consistent slope.\n",
    "A correlation coefficient of -1 indicates a perfect negative linear relationship, meaning that one variable increases while the other decreases with a consistent slope.\n",
    "A correlation coefficient close to 0 suggests a weak or no linear relationship between the variables.\n",
    "The correlation coefficient is calculated by dividing the covariance of the variables by the product of their individual standard deviations."
   ]
  },
  {
   "cell_type": "markdown",
   "id": "bb9db75e-7aca-46ed-84be-53683762108a",
   "metadata": {},
   "source": [
    "# Q11. What is the formula for calculating the sample mean? Provide an example calculation for a dataset."
   ]
  },
  {
   "cell_type": "markdown",
   "id": "46b8f77c-81fb-4ea3-b274-e956a0304803",
   "metadata": {},
   "source": [
    "The formula for calculating the sample mean is:\n",
    "\n",
    "Sample Mean (X̄) = (Sum of all data points) / (Number of data points)\n",
    "\n",
    "To calculate the sample mean, you add up all the values in the dataset and then divide the sum by the total number of data points.\n",
    "\n",
    "Example calculation:\n",
    "Let's take a dataset of 6 exam scores: 75, 80, 85, 90, 95, 100.\n",
    "\n",
    "Step 1: Add all the data points together:\n",
    "Sum = 75 + 80 + 85 + 90 + 95 + 100 = 525\n",
    "\n",
    "Step 2: Determine the number of data points (sample size):\n",
    "Number of data points = 6\n",
    "\n",
    "Step 3: Calculate the sample mean:\n",
    "Sample Mean (X̄) = Sum / Number of data points\n",
    "Sample Mean (X̄) = 525 / 6 ≈ 87.5\n",
    "\n"
   ]
  },
  {
   "cell_type": "markdown",
   "id": "d89172b0-417b-435c-af4e-3f86433d946f",
   "metadata": {},
   "source": [
    "# Q12. For a normal distribution data what is the relationship between its measure of central tendency?"
   ]
  },
  {
   "cell_type": "markdown",
   "id": "c3fc3616-bd37-4a60-8106-b68964039516",
   "metadata": {},
   "source": [
    "For a normal distribution, the relationship between its measures of central tendency (mean, median, and mode) is as follows:\n",
    "\n",
    "Mean (μ):\n",
    "In a normal distribution, the mean is equal to the median, and they both lie at the center of the distribution.\n",
    "The mean is the arithmetic average of all the data points, and since the normal distribution is symmetric, the values on the left and right sides of the mean balance each other out.\n",
    "Median:\n",
    "The median of a normal distribution is also equal to its mean.\n",
    "In a symmetrical distribution like the normal distribution, the median is the value that divides the dataset into two equal halves.\n",
    "Mode:\n",
    "For a normal distribution, the mode is also equal to the mean and median.\n",
    "In a perfectly symmetrical normal distribution, every value has the same frequency, so there is no single value with a higher frequency than others (no \"peak\" or \"mode\" as we usually define it for other distributions)."
   ]
  },
  {
   "cell_type": "markdown",
   "id": "44fd6fa6-bf87-493a-be37-a793d4513272",
   "metadata": {},
   "source": [
    "# Q13. How is covariance different from correlation?"
   ]
  },
  {
   "cell_type": "markdown",
   "id": "f3c2e993-ac57-4fef-b871-ad86ffdc3cfe",
   "metadata": {},
   "source": [
    "Covariance measures the degree to which two variables change together. It indicates whether the two variables tend to increase or decrease together or move in opposite directions.\n",
    "Correlation, on the other hand, is a standardized measure of the relationship between two variables. It represents the strength and direction of the linear relationship between the variables.\n",
    "Scale:\n",
    "Covariance is not standardized, which means it can take any value, positive or negative, depending on the data. The magnitude of the covariance depends on the scales of the variables involved.\n",
    "Correlation, however, is a standardized measure, and its value always ranges between -1 and +1, irrespective of the scales of the variables.\n",
    "Interpretation:\n",
    "Covariance does not provide an intuitive understanding of the strength of the relationship between variables because its value is not bounded.\n",
    "Correlation, being standardized, offers a more straightforward interpretation. A correlation coefficient of +1 indicates a perfect positive linear relationship, -1 indicates a perfect negative linear relationship, and a value close to 0 suggests a weak or no linear relationship.\n",
    "Comparability:\n",
    "Due to the scale dependency of covariance, it is challenging to compare the strength of relationships between different variable pairs or datasets directly.\n",
    "Correlation, being standardized and having a fixed range, allows for easier comparison of the strength and direction of relationships across different datasets.\n",
    "Direction:\n",
    "Covariance does not give a clear indication of the direction of the relationship between variables since it can be positive or negative based on the data.\n",
    "Correlation explicitly indicates the direction of the linear relationship: positive correlation for an increasing relationship and negative correlation for a decreasing relationship."
   ]
  },
  {
   "cell_type": "markdown",
   "id": "aa53bde6-8ede-44b6-8be0-765feb601255",
   "metadata": {},
   "source": [
    "# Q14. How do outliers affect measures of central tendency and dispersion? Provide an example."
   ]
  },
  {
   "cell_type": "markdown",
   "id": "40d73a1c-b873-44d1-9076-9016c4be23d3",
   "metadata": {},
   "source": [
    "Measures of Central Tendency (Mean, Median, and Mode):\n",
    "Mean: Outliers can heavily influence the mean, especially in small datasets. A single extreme value can pull the mean towards its direction. For example, if you have the following dataset: [10, 20, 30, 40, 50, 1000], the outlier \"1000\" significantly impacts the mean, making it much larger than the other values.\n",
    "\n",
    "Median: The median is less affected by outliers because it is the middle value in a sorted dataset. Outliers only affect the median when they change the order of the data points. In the example above, the median would still be 35, regardless of the outlier \"1000\".\n",
    "\n",
    "Mode: The mode is not directly influenced by outliers, as it represents the most frequently occurring value in the dataset. In the same example, the mode would still be 10, 20, 30, 40, or 50, depending on the data.\n",
    "\n",
    "Measures of Dispersion (Range, Variance, and Standard Deviation):\n",
    "Range: Outliers can significantly affect the range of the data by increasing or decreasing its value. The range is the difference between the maximum and minimum values in the dataset, so if an outlier is much larger or smaller than the other values, it will widen the range.\n",
    "\n",
    "Variance and Standard Deviation: Outliers can greatly influence both the variance and standard deviation, as they measure the spread of the data around the central tendency. Since variance and standard deviation involve squaring the differences from the mean, an outlier's deviation from the mean is amplified, causing a significant increase in these measures.\n",
    "\n",
    "For example, consider the following dataset of exam scores: [70, 80, 85, 90, 95, 200]. The outlier \"200\" is much larger than the other values. Its impact on the measures of central tendency and dispersion is as follows:\n",
    "\n",
    "Mean: (70 + 80 + 85 + 90 + 95 + 200) / 6 ≈ 108.3 (significantly higher due to the outlier).\n",
    "\n",
    "Median: 87.5 (unaffected by the outlier).\n",
    "\n",
    "Mode: No mode in this dataset (unaffected by the outlier).\n",
    "\n",
    "Range: 200 - 70 = 130 (wider due to the outlier).\n",
    "\n",
    "Variance: 2558.3 (significantly higher due to the outlier).\n",
    "\n",
    "Standard Deviation: √2558.3 ≈ 50.58 (significantly higher due to the outlier)."
   ]
  },
  {
   "cell_type": "code",
   "execution_count": null,
   "id": "e995a52b-5380-43c0-82be-991f4e691027",
   "metadata": {},
   "outputs": [],
   "source": []
  }
 ],
 "metadata": {
  "kernelspec": {
   "display_name": "Python 3 (ipykernel)",
   "language": "python",
   "name": "python3"
  },
  "language_info": {
   "codemirror_mode": {
    "name": "ipython",
    "version": 3
   },
   "file_extension": ".py",
   "mimetype": "text/x-python",
   "name": "python",
   "nbconvert_exporter": "python",
   "pygments_lexer": "ipython3",
   "version": "3.10.8"
  }
 },
 "nbformat": 4,
 "nbformat_minor": 5
}
